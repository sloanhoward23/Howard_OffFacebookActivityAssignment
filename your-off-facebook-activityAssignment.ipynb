{
 "cells": [
  {
   "cell_type": "markdown",
   "id": "controlled-oregon",
   "metadata": {},
   "source": [
    "# Your Off Facebook Activity Assignment\n",
    "by Sloan Howard \n",
    "\n",
    "In this analysis, I will be using my off Facebook Activity from my Facebook profile information to find and compare univariate distributions and graph the information I get from the files. It will be interesting to see what sites and apps were used from my profile because I have not used the account in 7 years.\n",
    "\n",
    "My hypothesis is that I will see some very old websites and applications from the years I used this Facebook account. I mainly used the account form 2009-2014 and have not logged in since. "
   ]
  },
  {
   "cell_type": "markdown",
   "id": "governing-second",
   "metadata": {},
   "source": [
    "Below I am importing the neccessary tools needed to find unviariate distributions and be able to graph information."
   ]
  },
  {
   "cell_type": "code",
   "execution_count": 1,
   "id": "mediterranean-exclusive",
   "metadata": {},
   "outputs": [],
   "source": [
    "import json\n",
    "from datetime import datetime\n",
    "import matplotlib.pyplot as plt\n",
    "import numpy as np\n",
    "import time\n",
    "import pandas as pd"
   ]
  },
  {
   "cell_type": "markdown",
   "id": "casual-bahrain",
   "metadata": {},
   "source": [
    "Here I am loading the json file \"your_off_facebook_activity\" into the notebook to be used for analysis."
   ]
  },
  {
   "cell_type": "code",
   "execution_count": 6,
   "id": "consistent-doctrine",
   "metadata": {},
   "outputs": [
    {
     "data": {
      "text/plain": [
       "dict_keys(['off_facebook_activity'])"
      ]
     },
     "execution_count": 6,
     "metadata": {},
     "output_type": "execute_result"
    }
   ],
   "source": [
    "with open(r\"C:\\Users\\ADMIN\\Desktop\\ads_and_businesses\\your_off-facebook_activity.json\") as f:\n",
    "    myfbact = json.load(f)\n",
    "myfbact.keys()"
   ]
  },
  {
   "cell_type": "markdown",
   "id": "regulated-horror",
   "metadata": {},
   "source": [
    "Below I am using the for loop method to set a variable for each dictionary in the loaded json file. This makes sure that I get a series of lists that contain the data that I want to look at for this analysis. "
   ]
  },
  {
   "cell_type": "code",
   "execution_count": 8,
   "id": "statewide-flush",
   "metadata": {},
   "outputs": [],
   "source": [
    "apps = []\n",
    "events = []\n",
    "actapp = []\n",
    "custom = []\n",
    "search = []\n",
    "viewc = []\n",
    "ad = []\n",
    "view = []\n",
    "\n",
    "for i in myfbact['off_facebook_activity']:\n",
    "    apps.append(i['name'])\n",
    "    events.append((len(i['events'])))\n",
    "    actapp.append(len([x for x in i['events'] if x['type'] == 'ACTIVATE_APP']))\n",
    "    custom.append(len([x for x in i['events'] if x['type'] == 'CUSTOM']))\n",
    "    search.append(len([x for x in i['events'] if x['type'] == 'SEARCH']))\n",
    "    viewc.append(len([x for x in i['events'] if x['type'] == 'VIEW_CONTENT']))\n",
    "    ad.append(len([x for x in i['events'] if x['type'] == 'AD_REQUEST']))\n",
    "    view.append(len([x for x in i['events'] if x['type'] == 'PAGE_VIEW']))"
   ]
  },
  {
   "cell_type": "markdown",
   "id": "convinced-subscriber",
   "metadata": {},
   "source": [
    "Now I create an empty DataFrame and make the columns names each a dictionary from the data. I then assign the lists of data to the columns. "
   ]
  },
  {
   "cell_type": "code",
   "execution_count": 12,
   "id": "earned-coral",
   "metadata": {
    "scrolled": true
   },
   "outputs": [
    {
     "data": {
      "text/html": [
       "<div>\n",
       "<style scoped>\n",
       "    .dataframe tbody tr th:only-of-type {\n",
       "        vertical-align: middle;\n",
       "    }\n",
       "\n",
       "    .dataframe tbody tr th {\n",
       "        vertical-align: top;\n",
       "    }\n",
       "\n",
       "    .dataframe thead th {\n",
       "        text-align: right;\n",
       "    }\n",
       "</style>\n",
       "<table border=\"1\" class=\"dataframe\">\n",
       "  <thead>\n",
       "    <tr style=\"text-align: right;\">\n",
       "      <th></th>\n",
       "      <th>App</th>\n",
       "      <th>Event Count</th>\n",
       "      <th>Activate App</th>\n",
       "      <th>Custom</th>\n",
       "      <th>Search</th>\n",
       "      <th>View Content</th>\n",
       "      <th>Ad Request</th>\n",
       "      <th>Page Views</th>\n",
       "    </tr>\n",
       "  </thead>\n",
       "  <tbody>\n",
       "    <tr>\n",
       "      <th>0</th>\n",
       "      <td>studentaid.gov</td>\n",
       "      <td>4</td>\n",
       "      <td>0</td>\n",
       "      <td>0</td>\n",
       "      <td>0</td>\n",
       "      <td>0</td>\n",
       "      <td>0</td>\n",
       "      <td>4</td>\n",
       "    </tr>\n",
       "    <tr>\n",
       "      <th>1</th>\n",
       "      <td>vimeo.com</td>\n",
       "      <td>1</td>\n",
       "      <td>0</td>\n",
       "      <td>0</td>\n",
       "      <td>0</td>\n",
       "      <td>0</td>\n",
       "      <td>0</td>\n",
       "      <td>1</td>\n",
       "    </tr>\n",
       "    <tr>\n",
       "      <th>2</th>\n",
       "      <td>Tinder - Dating New People</td>\n",
       "      <td>16</td>\n",
       "      <td>16</td>\n",
       "      <td>0</td>\n",
       "      <td>0</td>\n",
       "      <td>0</td>\n",
       "      <td>0</td>\n",
       "      <td>0</td>\n",
       "    </tr>\n",
       "    <tr>\n",
       "      <th>3</th>\n",
       "      <td>DoorDash - Food Delivery</td>\n",
       "      <td>22</td>\n",
       "      <td>22</td>\n",
       "      <td>0</td>\n",
       "      <td>0</td>\n",
       "      <td>0</td>\n",
       "      <td>0</td>\n",
       "      <td>0</td>\n",
       "    </tr>\n",
       "    <tr>\n",
       "      <th>4</th>\n",
       "      <td>theupsstore.com</td>\n",
       "      <td>3</td>\n",
       "      <td>0</td>\n",
       "      <td>0</td>\n",
       "      <td>0</td>\n",
       "      <td>0</td>\n",
       "      <td>0</td>\n",
       "      <td>3</td>\n",
       "    </tr>\n",
       "  </tbody>\n",
       "</table>\n",
       "</div>"
      ],
      "text/plain": [
       "                          App  Event Count  Activate App  Custom  Search  \\\n",
       "0              studentaid.gov            4             0       0       0   \n",
       "1                   vimeo.com            1             0       0       0   \n",
       "2  Tinder - Dating New People           16            16       0       0   \n",
       "3    DoorDash - Food Delivery           22            22       0       0   \n",
       "4             theupsstore.com            3             0       0       0   \n",
       "\n",
       "   View Content  Ad Request  Page Views  \n",
       "0             0           0           4  \n",
       "1             0           0           1  \n",
       "2             0           0           0  \n",
       "3             0           0           0  \n",
       "4             0           0           3  "
      ]
     },
     "execution_count": 12,
     "metadata": {},
     "output_type": "execute_result"
    }
   ],
   "source": [
    "appbyevent = pd.DataFrame(columns = ('App', 'Event Count', 'Activate App', 'Custom', 'Search', 'View Content', 'Ad Request', 'Page Views'))\n",
    "appbyevent['App'] = apps\n",
    "appbyevent['Event Count'] = events\n",
    "appbyevent['Activate App'] = actapp\n",
    "appbyevent['Custom'] = custom\n",
    "appbyevent['Search'] = search\n",
    "appbyevent['View Content'] = viewc\n",
    "appbyevent['Ad Request'] = ad\n",
    "appbyevent['Page Views'] = view\n",
    "appbyevent.head()"
   ]
  },
  {
   "cell_type": "markdown",
   "id": "opposite-trinity",
   "metadata": {},
   "source": [
    "Above is a weird list of websites and apps. The list is weird to me because I used Facebook from around 2009-2014 and some of these apps did not exist between those years. My account is still active but I completely stopped using this social media platform nearly 7 years ago, so it is confusing to see these newer websites.\n",
    "\n",
    "Below I import stats from scipy to see if I can plot some univariate distributions. "
   ]
  },
  {
   "cell_type": "code",
   "execution_count": 9,
   "id": "complimentary-paragraph",
   "metadata": {},
   "outputs": [],
   "source": [
    "from scipy import stats"
   ]
  },
  {
   "cell_type": "code",
   "execution_count": 44,
   "id": "ideal-laundry",
   "metadata": {},
   "outputs": [
    {
     "data": {
      "text/plain": [
       "array([[ 0,  0, 16, 22],\n",
       "       [ 0,  0,  0,  0]], dtype=int64)"
      ]
     },
     "execution_count": 44,
     "metadata": {},
     "output_type": "execute_result"
    }
   ],
   "source": [
    "univariation = np.array([appbyevent['Activate App'][:4], appbyevent['Custom'][:4]])\n",
    "univariation"
   ]
  },
  {
   "cell_type": "markdown",
   "id": "billion-omega",
   "metadata": {},
   "source": [
    "As you can see below, I was having trouble try to use the contingency feature from stats. The error message says that the table the was created has a zero element at (0,0). I believe that this was a problem because of the lack of data on my account. I used Facebook during a time where there weren't many ads or apps that used facebook as a way to promote themselves. I never got the chance to use or click on them, which makes sense because most of the apps and sites you see in the data are fairly new."
   ]
  },
  {
   "cell_type": "code",
   "execution_count": 45,
   "id": "temporal-bride",
   "metadata": {},
   "outputs": [
    {
     "ename": "ValueError",
     "evalue": "The internally computed table of expected frequencies has a zero element at (0, 0).",
     "output_type": "error",
     "traceback": [
      "\u001b[1;31m---------------------------------------------------------------------------\u001b[0m",
      "\u001b[1;31mValueError\u001b[0m                                Traceback (most recent call last)",
      "\u001b[1;32m<ipython-input-45-472678913fba>\u001b[0m in \u001b[0;36m<module>\u001b[1;34m\u001b[0m\n\u001b[1;32m----> 1\u001b[1;33m \u001b[0mstats\u001b[0m\u001b[1;33m.\u001b[0m\u001b[0mchi2_contingency\u001b[0m\u001b[1;33m(\u001b[0m\u001b[0munivariation\u001b[0m\u001b[1;33m)\u001b[0m\u001b[1;33m\u001b[0m\u001b[1;33m\u001b[0m\u001b[0m\n\u001b[0m",
      "\u001b[1;32m~\\anaconda3\\envs\\datainemat\\lib\\site-packages\\scipy\\stats\\contingency.py\u001b[0m in \u001b[0;36mchi2_contingency\u001b[1;34m(observed, correction, lambda_)\u001b[0m\n\u001b[0;32m    250\u001b[0m         \u001b[1;31m# the exception message.\u001b[0m\u001b[1;33m\u001b[0m\u001b[1;33m\u001b[0m\u001b[1;33m\u001b[0m\u001b[0m\n\u001b[0;32m    251\u001b[0m         \u001b[0mzeropos\u001b[0m \u001b[1;33m=\u001b[0m \u001b[0mlist\u001b[0m\u001b[1;33m(\u001b[0m\u001b[0mzip\u001b[0m\u001b[1;33m(\u001b[0m\u001b[1;33m*\u001b[0m\u001b[0mnp\u001b[0m\u001b[1;33m.\u001b[0m\u001b[0mnonzero\u001b[0m\u001b[1;33m(\u001b[0m\u001b[0mexpected\u001b[0m \u001b[1;33m==\u001b[0m \u001b[1;36m0\u001b[0m\u001b[1;33m)\u001b[0m\u001b[1;33m)\u001b[0m\u001b[1;33m)\u001b[0m\u001b[1;33m[\u001b[0m\u001b[1;36m0\u001b[0m\u001b[1;33m]\u001b[0m\u001b[1;33m\u001b[0m\u001b[1;33m\u001b[0m\u001b[0m\n\u001b[1;32m--> 252\u001b[1;33m         raise ValueError(\"The internally computed table of expected \"\n\u001b[0m\u001b[0;32m    253\u001b[0m                          \"frequencies has a zero element at %s.\" % (zeropos,))\n\u001b[0;32m    254\u001b[0m \u001b[1;33m\u001b[0m\u001b[0m\n",
      "\u001b[1;31mValueError\u001b[0m: The internally computed table of expected frequencies has a zero element at (0, 0)."
     ]
    }
   ],
   "source": [
    "stats.chi2_contingency(univariation)"
   ]
  },
  {
   "cell_type": "markdown",
   "id": "civil-hepatitis",
   "metadata": {},
   "source": [
    "As I begin to see that not many old webistes are shown, I begin to just focus on apps and sites that have multiple events of multiple types from the list show below.  "
   ]
  },
  {
   "cell_type": "code",
   "execution_count": 21,
   "id": "worst-depression",
   "metadata": {},
   "outputs": [
    {
     "data": {
      "text/html": [
       "<div>\n",
       "<style scoped>\n",
       "    .dataframe tbody tr th:only-of-type {\n",
       "        vertical-align: middle;\n",
       "    }\n",
       "\n",
       "    .dataframe tbody tr th {\n",
       "        vertical-align: top;\n",
       "    }\n",
       "\n",
       "    .dataframe thead th {\n",
       "        text-align: right;\n",
       "    }\n",
       "</style>\n",
       "<table border=\"1\" class=\"dataframe\">\n",
       "  <thead>\n",
       "    <tr style=\"text-align: right;\">\n",
       "      <th></th>\n",
       "      <th>App</th>\n",
       "      <th>Event Count</th>\n",
       "      <th>Activate App</th>\n",
       "      <th>Custom</th>\n",
       "      <th>Ad Request</th>\n",
       "      <th>View Content</th>\n",
       "      <th>Page Views</th>\n",
       "    </tr>\n",
       "  </thead>\n",
       "  <tbody>\n",
       "    <tr>\n",
       "      <th>2</th>\n",
       "      <td>Tinder - Dating New People</td>\n",
       "      <td>16</td>\n",
       "      <td>16</td>\n",
       "      <td>0</td>\n",
       "      <td>0</td>\n",
       "      <td>0</td>\n",
       "      <td>0</td>\n",
       "    </tr>\n",
       "    <tr>\n",
       "      <th>3</th>\n",
       "      <td>DoorDash - Food Delivery</td>\n",
       "      <td>22</td>\n",
       "      <td>22</td>\n",
       "      <td>0</td>\n",
       "      <td>0</td>\n",
       "      <td>0</td>\n",
       "      <td>0</td>\n",
       "    </tr>\n",
       "    <tr>\n",
       "      <th>7</th>\n",
       "      <td>kent.edu</td>\n",
       "      <td>15</td>\n",
       "      <td>0</td>\n",
       "      <td>0</td>\n",
       "      <td>0</td>\n",
       "      <td>0</td>\n",
       "      <td>15</td>\n",
       "    </tr>\n",
       "    <tr>\n",
       "      <th>9</th>\n",
       "      <td>nba.com</td>\n",
       "      <td>11</td>\n",
       "      <td>0</td>\n",
       "      <td>4</td>\n",
       "      <td>0</td>\n",
       "      <td>0</td>\n",
       "      <td>7</td>\n",
       "    </tr>\n",
       "    <tr>\n",
       "      <th>24</th>\n",
       "      <td>NJ Advance Media</td>\n",
       "      <td>73</td>\n",
       "      <td>0</td>\n",
       "      <td>73</td>\n",
       "      <td>0</td>\n",
       "      <td>0</td>\n",
       "      <td>0</td>\n",
       "    </tr>\n",
       "    <tr>\n",
       "      <th>30</th>\n",
       "      <td>Kivvit</td>\n",
       "      <td>37</td>\n",
       "      <td>0</td>\n",
       "      <td>37</td>\n",
       "      <td>0</td>\n",
       "      <td>0</td>\n",
       "      <td>0</td>\n",
       "    </tr>\n",
       "    <tr>\n",
       "      <th>31</th>\n",
       "      <td>Advance Local</td>\n",
       "      <td>11</td>\n",
       "      <td>0</td>\n",
       "      <td>11</td>\n",
       "      <td>0</td>\n",
       "      <td>0</td>\n",
       "      <td>0</td>\n",
       "    </tr>\n",
       "    <tr>\n",
       "      <th>32</th>\n",
       "      <td>AdsHub Social</td>\n",
       "      <td>13</td>\n",
       "      <td>0</td>\n",
       "      <td>13</td>\n",
       "      <td>0</td>\n",
       "      <td>0</td>\n",
       "      <td>0</td>\n",
       "    </tr>\n",
       "    <tr>\n",
       "      <th>57</th>\n",
       "      <td>fubo.tv</td>\n",
       "      <td>19</td>\n",
       "      <td>0</td>\n",
       "      <td>0</td>\n",
       "      <td>0</td>\n",
       "      <td>0</td>\n",
       "      <td>19</td>\n",
       "    </tr>\n",
       "    <tr>\n",
       "      <th>78</th>\n",
       "      <td>TikTok</td>\n",
       "      <td>17</td>\n",
       "      <td>17</td>\n",
       "      <td>0</td>\n",
       "      <td>0</td>\n",
       "      <td>0</td>\n",
       "      <td>0</td>\n",
       "    </tr>\n",
       "    <tr>\n",
       "      <th>101</th>\n",
       "      <td>TikTok - Make Your Day</td>\n",
       "      <td>168</td>\n",
       "      <td>124</td>\n",
       "      <td>33</td>\n",
       "      <td>0</td>\n",
       "      <td>0</td>\n",
       "      <td>0</td>\n",
       "    </tr>\n",
       "    <tr>\n",
       "      <th>102</th>\n",
       "      <td>Xbox</td>\n",
       "      <td>155</td>\n",
       "      <td>0</td>\n",
       "      <td>155</td>\n",
       "      <td>0</td>\n",
       "      <td>0</td>\n",
       "      <td>0</td>\n",
       "    </tr>\n",
       "    <tr>\n",
       "      <th>103</th>\n",
       "      <td>GOAT â Sneakers &amp; Apparel</td>\n",
       "      <td>12</td>\n",
       "      <td>0</td>\n",
       "      <td>11</td>\n",
       "      <td>0</td>\n",
       "      <td>0</td>\n",
       "      <td>0</td>\n",
       "    </tr>\n",
       "    <tr>\n",
       "      <th>106</th>\n",
       "      <td>SoundCloud - Music &amp; Audio</td>\n",
       "      <td>24</td>\n",
       "      <td>24</td>\n",
       "      <td>0</td>\n",
       "      <td>0</td>\n",
       "      <td>0</td>\n",
       "      <td>0</td>\n",
       "    </tr>\n",
       "  </tbody>\n",
       "</table>\n",
       "</div>"
      ],
      "text/plain": [
       "                             App  Event Count  Activate App  Custom  \\\n",
       "2     Tinder - Dating New People           16            16       0   \n",
       "3       DoorDash - Food Delivery           22            22       0   \n",
       "7                       kent.edu           15             0       0   \n",
       "9                        nba.com           11             0       4   \n",
       "24              NJ Advance Media           73             0      73   \n",
       "30                        Kivvit           37             0      37   \n",
       "31                 Advance Local           11             0      11   \n",
       "32                 AdsHub Social           13             0      13   \n",
       "57                       fubo.tv           19             0       0   \n",
       "78                        TikTok           17            17       0   \n",
       "101       TikTok - Make Your Day          168           124      33   \n",
       "102                         Xbox          155             0     155   \n",
       "103  GOAT â Sneakers & Apparel           12             0      11   \n",
       "106   SoundCloud - Music & Audio           24            24       0   \n",
       "\n",
       "     Ad Request  View Content  Page Views  \n",
       "2             0             0           0  \n",
       "3             0             0           0  \n",
       "7             0             0          15  \n",
       "9             0             0           7  \n",
       "24            0             0           0  \n",
       "30            0             0           0  \n",
       "31            0             0           0  \n",
       "32            0             0           0  \n",
       "57            0             0          19  \n",
       "78            0             0           0  \n",
       "101           0             0           0  \n",
       "102           0             0           0  \n",
       "103           0             0           0  \n",
       "106           0             0           0  "
      ]
     },
     "execution_count": 21,
     "metadata": {},
     "output_type": "execute_result"
    }
   ],
   "source": [
    "app_table = appbyevent[['App', 'Event Count', 'Activate App', 'Custom', 'Ad Request', 'View Content', 'Page Views']].loc[appbyevent['Event Count'] > 10]\n",
    "app_table"
   ]
  },
  {
   "cell_type": "code",
   "execution_count": 22,
   "id": "laden-mustang",
   "metadata": {},
   "outputs": [
    {
     "data": {
      "text/plain": [
       "array([[ 16,   0,   0,   0,   0],\n",
       "       [ 22,   0,   0,   0,   0],\n",
       "       [  0,   0,   0,   0,  15],\n",
       "       [  0,   4,   0,   0,   7],\n",
       "       [  0,  73,   0,   0,   0],\n",
       "       [  0,  37,   0,   0,   0],\n",
       "       [  0,  11,   0,   0,   0],\n",
       "       [  0,  13,   0,   0,   0],\n",
       "       [  0,   0,   0,   0,  19],\n",
       "       [ 17,   0,   0,   0,   0],\n",
       "       [124,  33,   0,   0,   0],\n",
       "       [  0, 155,   0,   0,   0],\n",
       "       [  0,  11,   0,   0,   0],\n",
       "       [ 24,   0,   0,   0,   0]], dtype=int64)"
      ]
     },
     "execution_count": 22,
     "metadata": {},
     "output_type": "execute_result"
    }
   ],
   "source": [
    "sub_obs = np.array(sub_apps.drop(columns = ['App', 'Event Count']))\n",
    "sub_obs"
   ]
  },
  {
   "cell_type": "code",
   "execution_count": 23,
   "id": "fundamental-macro",
   "metadata": {},
   "outputs": [
    {
     "ename": "ValueError",
     "evalue": "The internally computed table of expected frequencies has a zero element at (0, 2).",
     "output_type": "error",
     "traceback": [
      "\u001b[1;31m---------------------------------------------------------------------------\u001b[0m",
      "\u001b[1;31mValueError\u001b[0m                                Traceback (most recent call last)",
      "\u001b[1;32m<ipython-input-23-54950a259254>\u001b[0m in \u001b[0;36m<module>\u001b[1;34m\u001b[0m\n\u001b[1;32m----> 1\u001b[1;33m \u001b[0mstats\u001b[0m\u001b[1;33m.\u001b[0m\u001b[0mchi2_contingency\u001b[0m\u001b[1;33m(\u001b[0m\u001b[0msub_obs\u001b[0m\u001b[1;33m)\u001b[0m\u001b[1;33m\u001b[0m\u001b[1;33m\u001b[0m\u001b[0m\n\u001b[0m",
      "\u001b[1;32m~\\anaconda3\\envs\\datainemat\\lib\\site-packages\\scipy\\stats\\contingency.py\u001b[0m in \u001b[0;36mchi2_contingency\u001b[1;34m(observed, correction, lambda_)\u001b[0m\n\u001b[0;32m    250\u001b[0m         \u001b[1;31m# the exception message.\u001b[0m\u001b[1;33m\u001b[0m\u001b[1;33m\u001b[0m\u001b[1;33m\u001b[0m\u001b[0m\n\u001b[0;32m    251\u001b[0m         \u001b[0mzeropos\u001b[0m \u001b[1;33m=\u001b[0m \u001b[0mlist\u001b[0m\u001b[1;33m(\u001b[0m\u001b[0mzip\u001b[0m\u001b[1;33m(\u001b[0m\u001b[1;33m*\u001b[0m\u001b[0mnp\u001b[0m\u001b[1;33m.\u001b[0m\u001b[0mnonzero\u001b[0m\u001b[1;33m(\u001b[0m\u001b[0mexpected\u001b[0m \u001b[1;33m==\u001b[0m \u001b[1;36m0\u001b[0m\u001b[1;33m)\u001b[0m\u001b[1;33m)\u001b[0m\u001b[1;33m)\u001b[0m\u001b[1;33m[\u001b[0m\u001b[1;36m0\u001b[0m\u001b[1;33m]\u001b[0m\u001b[1;33m\u001b[0m\u001b[1;33m\u001b[0m\u001b[0m\n\u001b[1;32m--> 252\u001b[1;33m         raise ValueError(\"The internally computed table of expected \"\n\u001b[0m\u001b[0;32m    253\u001b[0m                          \"frequencies has a zero element at %s.\" % (zeropos,))\n\u001b[0;32m    254\u001b[0m \u001b[1;33m\u001b[0m\u001b[0m\n",
      "\u001b[1;31mValueError\u001b[0m: The internally computed table of expected frequencies has a zero element at (0, 2)."
     ]
    }
   ],
   "source": [
    "stats.chi2_contingency(sub_obs)"
   ]
  },
  {
   "cell_type": "markdown",
   "id": "overall-charleston",
   "metadata": {},
   "source": [
    "I again have trouble using the contingency feature as it is finding a plethora of zeros in my data. Again, I attribute this to the lack of data from the account. \n",
    "\n",
    "Once I see that I cannot plot univariate distributions, I wanted to sort the list of data by apps and websites and see what interesting information I can take from that. "
   ]
  },
  {
   "cell_type": "code",
   "execution_count": 24,
   "id": "adolescent-clear",
   "metadata": {},
   "outputs": [
    {
     "data": {
      "text/html": [
       "<div>\n",
       "<style scoped>\n",
       "    .dataframe tbody tr th:only-of-type {\n",
       "        vertical-align: middle;\n",
       "    }\n",
       "\n",
       "    .dataframe tbody tr th {\n",
       "        vertical-align: top;\n",
       "    }\n",
       "\n",
       "    .dataframe thead th {\n",
       "        text-align: right;\n",
       "    }\n",
       "</style>\n",
       "<table border=\"1\" class=\"dataframe\">\n",
       "  <thead>\n",
       "    <tr style=\"text-align: right;\">\n",
       "      <th></th>\n",
       "      <th>App</th>\n",
       "      <th>Event Count</th>\n",
       "      <th>Activate App</th>\n",
       "      <th>Custom</th>\n",
       "      <th>Search</th>\n",
       "      <th>View Content</th>\n",
       "      <th>Ad Request</th>\n",
       "      <th>Page Views</th>\n",
       "    </tr>\n",
       "  </thead>\n",
       "  <tbody>\n",
       "    <tr>\n",
       "      <th>2</th>\n",
       "      <td>Tinder - Dating New People</td>\n",
       "      <td>16</td>\n",
       "      <td>16</td>\n",
       "      <td>0</td>\n",
       "      <td>0</td>\n",
       "      <td>0</td>\n",
       "      <td>0</td>\n",
       "      <td>0</td>\n",
       "    </tr>\n",
       "  </tbody>\n",
       "</table>\n",
       "</div>"
      ],
      "text/plain": [
       "                          App  Event Count  Activate App  Custom  Search  \\\n",
       "2  Tinder - Dating New People           16            16       0       0   \n",
       "\n",
       "   View Content  Ad Request  Page Views  \n",
       "2             0           0           0  "
      ]
     },
     "execution_count": 24,
     "metadata": {},
     "output_type": "execute_result"
    }
   ],
   "source": [
    "appbyevent.loc[appbyevent['App'] == \"Tinder - Dating New People\"]"
   ]
  },
  {
   "cell_type": "code",
   "execution_count": 25,
   "id": "resident-harrison",
   "metadata": {},
   "outputs": [
    {
     "data": {
      "text/html": [
       "<div>\n",
       "<style scoped>\n",
       "    .dataframe tbody tr th:only-of-type {\n",
       "        vertical-align: middle;\n",
       "    }\n",
       "\n",
       "    .dataframe tbody tr th {\n",
       "        vertical-align: top;\n",
       "    }\n",
       "\n",
       "    .dataframe thead th {\n",
       "        text-align: right;\n",
       "    }\n",
       "</style>\n",
       "<table border=\"1\" class=\"dataframe\">\n",
       "  <thead>\n",
       "    <tr style=\"text-align: right;\">\n",
       "      <th></th>\n",
       "      <th>App</th>\n",
       "      <th>Event Count</th>\n",
       "      <th>Activate App</th>\n",
       "      <th>Custom</th>\n",
       "      <th>Search</th>\n",
       "      <th>View Content</th>\n",
       "      <th>Ad Request</th>\n",
       "      <th>Page Views</th>\n",
       "    </tr>\n",
       "  </thead>\n",
       "  <tbody>\n",
       "    <tr>\n",
       "      <th>57</th>\n",
       "      <td>fubo.tv</td>\n",
       "      <td>19</td>\n",
       "      <td>0</td>\n",
       "      <td>0</td>\n",
       "      <td>0</td>\n",
       "      <td>0</td>\n",
       "      <td>0</td>\n",
       "      <td>19</td>\n",
       "    </tr>\n",
       "  </tbody>\n",
       "</table>\n",
       "</div>"
      ],
      "text/plain": [
       "        App  Event Count  Activate App  Custom  Search  View Content  \\\n",
       "57  fubo.tv           19             0       0       0             0   \n",
       "\n",
       "    Ad Request  Page Views  \n",
       "57           0          19  "
      ]
     },
     "execution_count": 25,
     "metadata": {},
     "output_type": "execute_result"
    }
   ],
   "source": [
    "appbyevent.loc[appbyevent['App'] == \"fubo.tv\"]"
   ]
  },
  {
   "cell_type": "code",
   "execution_count": 26,
   "id": "french-premises",
   "metadata": {},
   "outputs": [
    {
     "data": {
      "text/plain": [
       "2       Tinder - Dating New People\n",
       "3         DoorDash - Food Delivery\n",
       "7                         kent.edu\n",
       "9                          nba.com\n",
       "24                NJ Advance Media\n",
       "30                          Kivvit\n",
       "31                   Advance Local\n",
       "32                   AdsHub Social\n",
       "57                         fubo.tv\n",
       "78                          TikTok\n",
       "101         TikTok - Make Your Day\n",
       "102                           Xbox\n",
       "103    GOAT â Sneakers & Apparel\n",
       "106     SoundCloud - Music & Audio\n",
       "Name: App, dtype: object"
      ]
     },
     "execution_count": 26,
     "metadata": {},
     "output_type": "execute_result"
    }
   ],
   "source": [
    "app_table['App']"
   ]
  },
  {
   "cell_type": "markdown",
   "id": "weird-faith",
   "metadata": {},
   "source": [
    "Below I categorize each data point, determining whether it is an app or a website on the internet. Some of the data points I had never seen before so I categorized them as \"unknown\"."
   ]
  },
  {
   "cell_type": "code",
   "execution_count": 27,
   "id": "running-indonesia",
   "metadata": {},
   "outputs": [
    {
     "data": {
      "text/plain": [
       "['app',\n",
       " 'app',\n",
       " 'site',\n",
       " 'site',\n",
       " 'unknown',\n",
       " 'site',\n",
       " 'unknown',\n",
       " 'unknown',\n",
       " 'site',\n",
       " 'app',\n",
       " 'app',\n",
       " 'site',\n",
       " 'site',\n",
       " 'site']"
      ]
     },
     "execution_count": 27,
     "metadata": {},
     "output_type": "execute_result"
    }
   ],
   "source": [
    "cat = ['app', 'app', 'site', 'site', 'unknown', 'site', 'unknown', 'unknown', 'site', 'app', 'app', 'site', 'site', 'site']\n",
    "cat"
   ]
  },
  {
   "cell_type": "code",
   "execution_count": 28,
   "id": "focused-petersburg",
   "metadata": {},
   "outputs": [
    {
     "data": {
      "text/html": [
       "<div>\n",
       "<style scoped>\n",
       "    .dataframe tbody tr th:only-of-type {\n",
       "        vertical-align: middle;\n",
       "    }\n",
       "\n",
       "    .dataframe tbody tr th {\n",
       "        vertical-align: top;\n",
       "    }\n",
       "\n",
       "    .dataframe thead th {\n",
       "        text-align: right;\n",
       "    }\n",
       "</style>\n",
       "<table border=\"1\" class=\"dataframe\">\n",
       "  <thead>\n",
       "    <tr style=\"text-align: right;\">\n",
       "      <th></th>\n",
       "      <th>App</th>\n",
       "      <th>Event Count</th>\n",
       "      <th>Activate App</th>\n",
       "      <th>Custom</th>\n",
       "      <th>Ad Request</th>\n",
       "      <th>View Content</th>\n",
       "      <th>Page Views</th>\n",
       "      <th>category</th>\n",
       "    </tr>\n",
       "  </thead>\n",
       "  <tbody>\n",
       "    <tr>\n",
       "      <th>2</th>\n",
       "      <td>Tinder - Dating New People</td>\n",
       "      <td>16</td>\n",
       "      <td>16</td>\n",
       "      <td>0</td>\n",
       "      <td>0</td>\n",
       "      <td>0</td>\n",
       "      <td>0</td>\n",
       "      <td>app</td>\n",
       "    </tr>\n",
       "    <tr>\n",
       "      <th>3</th>\n",
       "      <td>DoorDash - Food Delivery</td>\n",
       "      <td>22</td>\n",
       "      <td>22</td>\n",
       "      <td>0</td>\n",
       "      <td>0</td>\n",
       "      <td>0</td>\n",
       "      <td>0</td>\n",
       "      <td>app</td>\n",
       "    </tr>\n",
       "    <tr>\n",
       "      <th>7</th>\n",
       "      <td>kent.edu</td>\n",
       "      <td>15</td>\n",
       "      <td>0</td>\n",
       "      <td>0</td>\n",
       "      <td>0</td>\n",
       "      <td>0</td>\n",
       "      <td>15</td>\n",
       "      <td>site</td>\n",
       "    </tr>\n",
       "    <tr>\n",
       "      <th>9</th>\n",
       "      <td>nba.com</td>\n",
       "      <td>11</td>\n",
       "      <td>0</td>\n",
       "      <td>4</td>\n",
       "      <td>0</td>\n",
       "      <td>0</td>\n",
       "      <td>7</td>\n",
       "      <td>site</td>\n",
       "    </tr>\n",
       "    <tr>\n",
       "      <th>24</th>\n",
       "      <td>NJ Advance Media</td>\n",
       "      <td>73</td>\n",
       "      <td>0</td>\n",
       "      <td>73</td>\n",
       "      <td>0</td>\n",
       "      <td>0</td>\n",
       "      <td>0</td>\n",
       "      <td>unknown</td>\n",
       "    </tr>\n",
       "    <tr>\n",
       "      <th>30</th>\n",
       "      <td>Kivvit</td>\n",
       "      <td>37</td>\n",
       "      <td>0</td>\n",
       "      <td>37</td>\n",
       "      <td>0</td>\n",
       "      <td>0</td>\n",
       "      <td>0</td>\n",
       "      <td>site</td>\n",
       "    </tr>\n",
       "    <tr>\n",
       "      <th>31</th>\n",
       "      <td>Advance Local</td>\n",
       "      <td>11</td>\n",
       "      <td>0</td>\n",
       "      <td>11</td>\n",
       "      <td>0</td>\n",
       "      <td>0</td>\n",
       "      <td>0</td>\n",
       "      <td>unknown</td>\n",
       "    </tr>\n",
       "    <tr>\n",
       "      <th>32</th>\n",
       "      <td>AdsHub Social</td>\n",
       "      <td>13</td>\n",
       "      <td>0</td>\n",
       "      <td>13</td>\n",
       "      <td>0</td>\n",
       "      <td>0</td>\n",
       "      <td>0</td>\n",
       "      <td>unknown</td>\n",
       "    </tr>\n",
       "    <tr>\n",
       "      <th>57</th>\n",
       "      <td>fubo.tv</td>\n",
       "      <td>19</td>\n",
       "      <td>0</td>\n",
       "      <td>0</td>\n",
       "      <td>0</td>\n",
       "      <td>0</td>\n",
       "      <td>19</td>\n",
       "      <td>site</td>\n",
       "    </tr>\n",
       "    <tr>\n",
       "      <th>78</th>\n",
       "      <td>TikTok</td>\n",
       "      <td>17</td>\n",
       "      <td>17</td>\n",
       "      <td>0</td>\n",
       "      <td>0</td>\n",
       "      <td>0</td>\n",
       "      <td>0</td>\n",
       "      <td>app</td>\n",
       "    </tr>\n",
       "    <tr>\n",
       "      <th>101</th>\n",
       "      <td>TikTok - Make Your Day</td>\n",
       "      <td>168</td>\n",
       "      <td>124</td>\n",
       "      <td>33</td>\n",
       "      <td>0</td>\n",
       "      <td>0</td>\n",
       "      <td>0</td>\n",
       "      <td>app</td>\n",
       "    </tr>\n",
       "    <tr>\n",
       "      <th>102</th>\n",
       "      <td>Xbox</td>\n",
       "      <td>155</td>\n",
       "      <td>0</td>\n",
       "      <td>155</td>\n",
       "      <td>0</td>\n",
       "      <td>0</td>\n",
       "      <td>0</td>\n",
       "      <td>site</td>\n",
       "    </tr>\n",
       "    <tr>\n",
       "      <th>103</th>\n",
       "      <td>GOAT â Sneakers &amp; Apparel</td>\n",
       "      <td>12</td>\n",
       "      <td>0</td>\n",
       "      <td>11</td>\n",
       "      <td>0</td>\n",
       "      <td>0</td>\n",
       "      <td>0</td>\n",
       "      <td>site</td>\n",
       "    </tr>\n",
       "    <tr>\n",
       "      <th>106</th>\n",
       "      <td>SoundCloud - Music &amp; Audio</td>\n",
       "      <td>24</td>\n",
       "      <td>24</td>\n",
       "      <td>0</td>\n",
       "      <td>0</td>\n",
       "      <td>0</td>\n",
       "      <td>0</td>\n",
       "      <td>site</td>\n",
       "    </tr>\n",
       "  </tbody>\n",
       "</table>\n",
       "</div>"
      ],
      "text/plain": [
       "                             App  Event Count  Activate App  Custom  \\\n",
       "2     Tinder - Dating New People           16            16       0   \n",
       "3       DoorDash - Food Delivery           22            22       0   \n",
       "7                       kent.edu           15             0       0   \n",
       "9                        nba.com           11             0       4   \n",
       "24              NJ Advance Media           73             0      73   \n",
       "30                        Kivvit           37             0      37   \n",
       "31                 Advance Local           11             0      11   \n",
       "32                 AdsHub Social           13             0      13   \n",
       "57                       fubo.tv           19             0       0   \n",
       "78                        TikTok           17            17       0   \n",
       "101       TikTok - Make Your Day          168           124      33   \n",
       "102                         Xbox          155             0     155   \n",
       "103  GOAT â Sneakers & Apparel           12             0      11   \n",
       "106   SoundCloud - Music & Audio           24            24       0   \n",
       "\n",
       "     Ad Request  View Content  Page Views category  \n",
       "2             0             0           0      app  \n",
       "3             0             0           0      app  \n",
       "7             0             0          15     site  \n",
       "9             0             0           7     site  \n",
       "24            0             0           0  unknown  \n",
       "30            0             0           0     site  \n",
       "31            0             0           0  unknown  \n",
       "32            0             0           0  unknown  \n",
       "57            0             0          19     site  \n",
       "78            0             0           0      app  \n",
       "101           0             0           0      app  \n",
       "102           0             0           0     site  \n",
       "103           0             0           0     site  \n",
       "106           0             0           0     site  "
      ]
     },
     "execution_count": 28,
     "metadata": {},
     "output_type": "execute_result"
    }
   ],
   "source": [
    "app_table['category'] = cat\n",
    "app_table"
   ]
  },
  {
   "cell_type": "markdown",
   "id": "respected-dakota",
   "metadata": {},
   "source": [
    "Below, I then graph the information above to see which type has the most events. It seems that the websites have the advantage in all the graphs. "
   ]
  },
  {
   "cell_type": "code",
   "execution_count": 30,
   "id": "lyric-outline",
   "metadata": {},
   "outputs": [
    {
     "data": {
      "image/png": "[encoded data removed]",
      "text/plain": [
       "<Figure size 432x288 with 1 Axes>"
      ]
     },
     "metadata": {
      "needs_background": "light"
     },
     "output_type": "display_data"
    }
   ],
   "source": [
    "bins = np.linspace(0, 500, 20)\n",
    "plt.hist(app_table['Event Count'].loc[app_table['category'] == 'app'], bins, alpha = 0.5, label = \"Apps\")\n",
    "plt.hist(app_table['Event Count'].loc[app_table['category'] == 'site'], bins, alpha = 0.5, label = \"Websites\")\n",
    "plt.legend(loc = 'upper right')\n",
    "plt.show()"
   ]
  },
  {
   "cell_type": "code",
   "execution_count": 31,
   "id": "wireless-luther",
   "metadata": {
    "scrolled": true
   },
   "outputs": [
    {
     "data": {
      "image/png": "[encoded data removed]",
      "text/plain": [
       "<Figure size 432x288 with 1 Axes>"
      ]
     },
     "metadata": {
      "needs_background": "light"
     },
     "output_type": "display_data"
    }
   ],
   "source": [
    "bins = np.linspace(0, 500, 10)\n",
    "apps = app_table['Event Count'].loc[app_table['category'] == 'app']\n",
    "sites = app_table['Event Count'].loc[app_table['category'] == 'site']\n",
    "plt.hist([apps, sites], bins, label = ['Apps', 'Websites'])\n",
    "plt.legend(loc = 'upper right')\n",
    "plt.show()"
   ]
  },
  {
   "cell_type": "code",
   "execution_count": 32,
   "id": "italian-logan",
   "metadata": {},
   "outputs": [
    {
     "data": {
      "text/plain": [
       "0.4413634016646444"
      ]
     },
     "execution_count": 32,
     "metadata": {},
     "output_type": "execute_result"
    }
   ],
   "source": [
    "eventcount = stats.ttest_ind(app_table['Event Count'].loc[app_table['category'] == 'app'], app_table['Event Count'].loc[app_table['category'] == 'site'])\n",
    "eventcount.statistic"
   ]
  },
  {
   "cell_type": "code",
   "execution_count": 33,
   "id": "theoretical-argentina",
   "metadata": {},
   "outputs": [
    {
     "data": {
      "image/png": "[encoded data removed]",
      "text/plain": [
       "<Figure size 432x288 with 1 Axes>"
      ]
     },
     "metadata": {
      "needs_background": "light"
     },
     "output_type": "display_data"
    }
   ],
   "source": [
    "df1 = (len(apps) - 1) + (len(sites) - 1)\n",
    "#df2 = 100\n",
    "fig, ax1 = plt.subplots(1,1)\n",
    "x1 = np.linspace(stats.t.ppf(0.01, df1), stats.t.ppf(0.99, df1), 100)\n",
    "ax1.plot(x1, stats.t.pdf(x1, df1), 'r-', lw = 5, label = 't df = 16')\n",
    "#x2 = np.linspace(stats.t.ppf(0.01, df2), stats.t.ppf(0.99, df2), 100)\n",
    "#ax1.plot(x2, stats.t.pdf(x2, df2), 'k-', lw = 5, label = 't df = 100')\n",
    "ax1.axvline(x=eventcount.statistic, label = 'statistic 0.4413')\n",
    "ax1.axvline(x=-eventcount.statistic, label = '_nolegend_')\n",
    "ax1.legend(loc = 'best', frameon = False)\n",
    "plt.show()"
   ]
  },
  {
   "cell_type": "code",
   "execution_count": 34,
   "id": "digital-patio",
   "metadata": {},
   "outputs": [
    {
     "data": {
      "text/plain": [
       "0.6693630861277924"
      ]
     },
     "execution_count": 34,
     "metadata": {},
     "output_type": "execute_result"
    }
   ],
   "source": [
    "eventcount.pvalue"
   ]
  },
  {
   "cell_type": "code",
   "execution_count": 35,
   "id": "cathedral-radius",
   "metadata": {},
   "outputs": [
    {
     "data": {
      "image/png": "[encoded data removed]",
      "text/plain": [
       "<Figure size 432x288 with 1 Axes>"
      ]
     },
     "metadata": {
      "needs_background": "light"
     },
     "output_type": "display_data"
    }
   ],
   "source": [
    "bins = np.linspace(0, 150, 5)\n",
    "apps = app_table['Activate App'].loc[app_table['category'] == 'app']\n",
    "sites = app_table['Activate App'].loc[app_table['category'] == 'site']\n",
    "plt.hist([apps, sites], bins, label = ['Apps', 'Websites'])\n",
    "plt.legend(loc = 'upper right')\n",
    "plt.show()"
   ]
  },
  {
   "cell_type": "code",
   "execution_count": 40,
   "id": "structural-birth",
   "metadata": {},
   "outputs": [
    {
     "data": {
      "text/plain": [
       "Ttest_indResult(statistic=2.0978087356114226, pvalue=0.06535024048907413)"
      ]
     },
     "execution_count": 40,
     "metadata": {},
     "output_type": "execute_result"
    }
   ],
   "source": [
    "ttest_activateapp = stats.ttest_ind(app_table['Activate App'].loc[app_table['category'] == 'app'], app_table['Activate App'].loc[app_table['category'] == 'site'])\n",
    "ttest_activateapp"
   ]
  },
  {
   "cell_type": "code",
   "execution_count": 41,
   "id": "joined-compound",
   "metadata": {},
   "outputs": [
    {
     "data": {
      "image/png": "[encoded data removed]",
      "text/plain": [
       "<Figure size 432x288 with 1 Axes>"
      ]
     },
     "metadata": {
      "needs_background": "light"
     },
     "output_type": "display_data"
    }
   ],
   "source": [
    "bins = np.linspace(0, 130, 10)\n",
    "apps = app_table['View Content'].loc[app_table['category'] == 'app']\n",
    "sites = app_table['View Content'].loc[app_table['category'] == 'site']\n",
    "plt.hist([apps, sites], bins, label = ['Apps', 'Websites'])\n",
    "plt.legend(loc = 'upper right')\n",
    "plt.show()"
   ]
  },
  {
   "cell_type": "code",
   "execution_count": 43,
   "id": "valuable-house",
   "metadata": {},
   "outputs": [
    {
     "data": {
      "text/plain": [
       "Ttest_indResult(statistic=nan, pvalue=nan)"
      ]
     },
     "execution_count": 43,
     "metadata": {},
     "output_type": "execute_result"
    }
   ],
   "source": [
    "ttest_viewcontent = stats.ttest_ind(app_table['View Content'].loc[app_table['category'] == 'app'], app_table['View Content'].loc[app_table['category'] == 'site'])\n",
    "ttest_viewcontent"
   ]
  },
  {
   "cell_type": "markdown",
   "id": "cultural-ending",
   "metadata": {},
   "source": [
    "In conclusion, I was sad that I was not able to figure out how to use the contigency feature from stats in scipy to find and plot univariate distributions. I feel like this would have been able to create more data to analyze and give me more of a conclusion to this data analysis. It was unfortunate to see the lack of data from my account, the arrays I was getting had a lot of zeros which led to me not being able to plot univariate distributions. What was interesting about this analysis is the amount of newer sites and apps that appeared in my data even though I have not used my account in 7 years! Sites like Tiktok, Doordash, and Tinder were apart of my data above. I am perplexed because all of these apps are on my phone and have no connection to Facebook at all! I was expecting to see some sites I had not seen in a long time, and I thought I could use that data to see what my off Facebook activity was and compare it to the data shared by my professor in class."
   ]
  },
  {
   "cell_type": "code",
   "execution_count": null,
   "id": "immediate-lewis",
   "metadata": {},
   "outputs": [],
   "source": []
  }
 ],
 "metadata": {
  "kernelspec": {
   "display_name": "Python 3",
   "language": "python",
   "name": "python3"
  },
  "language_info": {
   "codemirror_mode": {
    "name": "ipython",
    "version": 3
   },
   "file_extension": ".py",
   "mimetype": "text/x-python",
   "name": "python",
   "nbconvert_exporter": "python",
   "pygments_lexer": "ipython3",
   "version": "3.9.1"
  }
 },
 "nbformat": 4,
 "nbformat_minor": 5
}
